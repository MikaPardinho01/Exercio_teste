{
  "nbformat": 4,
  "nbformat_minor": 0,
  "metadata": {
    "colab": {
      "provenance": [],
      "authorship_tag": "ABX9TyMK3s6Hb82+rVVxiFvOzxUW",
      "include_colab_link": true
    },
    "kernelspec": {
      "name": "python3",
      "display_name": "Python 3"
    },
    "language_info": {
      "name": "python"
    }
  },
  "cells": [
    {
      "cell_type": "markdown",
      "metadata": {
        "id": "view-in-github",
        "colab_type": "text"
      },
      "source": [
        "<a href=\"https://colab.research.google.com/github/MikaPardinho01/Exercio_while_ok_em_teste/blob/main/atividade_de_while_.ipynb\" target=\"_parent\"><img src=\"https://colab.research.google.com/assets/colab-badge.svg\" alt=\"Open In Colab\"/></a>"
      ]
    },
    {
      "cell_type": "code",
      "execution_count": null,
      "metadata": {
        "colab": {
          "base_uri": "https://localhost:8080/"
        },
        "id": "NqzObIyf_jQi",
        "outputId": "b84e0466-5402-4586-b728-4dc7a9bf102e"
      },
      "outputs": [
        {
          "output_type": "stream",
          "name": "stdout",
          "text": [
            "Digite uma nota entre zero e dez: 12\n",
            "Digite um valor valido: 585\n",
            "Digite um valor valido: 10\n",
            "Sucesso\n"
          ]
        }
      ],
      "source": [
        "#Faça um programa que peça uma nota, entre zero e dez. Mostre uma\n",
        "# mensagem caso o valor seja inválido e continue pedindo até que o usuário\n",
        "# informe um valor válido.\n",
        "\n",
        "nota = float(input(\"Digite uma nota entre zero e dez: \"))\n",
        "while nota > 10 or nota < 0:\n",
        "  nota = float(input(\"Digite um valor valido: \"))\n",
        "print(\"Sucesso\")\n"
      ]
    },
    {
      "cell_type": "code",
      "source": [
        "# Escreva um programa que solicite ao usuário que insira um número e, em\n",
        "# seguida, imprima a tabuada desse número até 10.\n",
        "\n",
        "numero = int(input(\"Digite um numero: \"))\n",
        "contador = 1\n",
        "while contador <= 10:\n",
        "  resultado = numero * contador\n",
        "  print(f\"{numero} * {contador} = {resultado}\")\n",
        "  contador += 1"
      ],
      "metadata": {
        "colab": {
          "base_uri": "https://localhost:8080/"
        },
        "id": "5K9yBmFrBjFa",
        "outputId": "62fbbf98-0503-4020-e6e0-0f81c4ad6055"
      },
      "execution_count": null,
      "outputs": [
        {
          "output_type": "stream",
          "name": "stdout",
          "text": [
            "Digite um numero: 5\n",
            "5 * 1 = 5\n",
            "5 * 2 = 10\n",
            "5 * 3 = 15\n",
            "5 * 4 = 20\n",
            "5 * 5 = 25\n",
            "5 * 6 = 30\n",
            "5 * 7 = 35\n",
            "5 * 8 = 40\n",
            "5 * 9 = 45\n",
            "5 * 10 = 50\n"
          ]
        }
      ]
    },
    {
      "cell_type": "code",
      "source": [
        "# Faça um programa que leia um nome de usuário e a sua senha e não aceite a\n",
        "# senha igual ao nome do usuário, mostrando uma mensagem de erro e voltando\n",
        "# a pedir as informações.\n",
        "\n",
        "nome = int(input(\"Digite o nome do usuario: \"))\n",
        "senha = int(input(\"Insira sua senha: \"))\n",
        "while nome == senha:\n",
        "  nome = int(input(\"Digite um usario valido: \"))\n",
        "  senha = int(input(\"Insira uma senha valida: \"))\n",
        "print(\"Sucesso\")\n",
        "\n"
      ],
      "metadata": {
        "colab": {
          "base_uri": "https://localhost:8080/"
        },
        "id": "1gvkhCm0Fr7_",
        "outputId": "aff2a09c-7930-4098-904d-cd7b106f41ff"
      },
      "execution_count": null,
      "outputs": [
        {
          "output_type": "stream",
          "name": "stdout",
          "text": [
            "Digite o nome do usuario: 1803\n",
            "Insira sua senha: 1803\n",
            "Digite um usario valido: 1803\n",
            "Insira uma senha valida: 1504\n",
            "Sucesso\n"
          ]
        }
      ]
    },
    {
      "cell_type": "code",
      "source": [
        "#Escreva um programa que conte de 1 a 10 e imprima cada número.\n",
        "\n",
        "contador = 1\n",
        "while contador <= 10:\n",
        " print(f\"Numeros = {contador}\")\n",
        " contador += 1"
      ],
      "metadata": {
        "colab": {
          "base_uri": "https://localhost:8080/"
        },
        "id": "cmnRqj29I7dQ",
        "outputId": "ff954b19-7bc9-4d4f-d38b-b9213b5bacf5"
      },
      "execution_count": null,
      "outputs": [
        {
          "output_type": "stream",
          "name": "stdout",
          "text": [
            "Numeros = 1\n",
            "Numeros = 2\n",
            "Numeros = 3\n",
            "Numeros = 4\n",
            "Numeros = 5\n",
            "Numeros = 6\n",
            "Numeros = 7\n",
            "Numeros = 8\n",
            "Numeros = 9\n",
            "Numeros = 10\n"
          ]
        }
      ]
    },
    {
      "cell_type": "code",
      "source": [
        "#Escreva um programa que imprima os números pares de 1 a 20.\n",
        "\n",
        "contador = 2\n",
        "while contador <= 20:\n",
        "  print(f\"Numeros pares são: {contador}\")\n",
        "  contador +=2"
      ],
      "metadata": {
        "colab": {
          "base_uri": "https://localhost:8080/"
        },
        "id": "I0E1vm9pN3n1",
        "outputId": "f102b5cd-5c07-4270-c8a8-13d5367d2ecc"
      },
      "execution_count": null,
      "outputs": [
        {
          "output_type": "stream",
          "name": "stdout",
          "text": [
            "Numeros pares são: 2\n",
            "Numeros pares são: 4\n",
            "Numeros pares são: 6\n",
            "Numeros pares são: 8\n",
            "Numeros pares são: 10\n",
            "Numeros pares são: 12\n",
            "Numeros pares são: 14\n",
            "Numeros pares são: 16\n",
            "Numeros pares são: 18\n",
            "Numeros pares são: 20\n"
          ]
        }
      ]
    },
    {
      "cell_type": "code",
      "source": [
        "# Escreva um programa que solicite ao usuário que insira um número e, em\n",
        "# seguida, imprima todos os números de 1 até esse número.\n",
        "\n",
        "numero = int(input(\"Insira um numero: \"))\n",
        "contador = 1\n",
        "while contador <= numero:\n",
        "  print(f\"Sequencia de: {contador} \")\n",
        "  contador += 1"
      ],
      "metadata": {
        "colab": {
          "base_uri": "https://localhost:8080/"
        },
        "id": "7nQ6ywdnVMHG",
        "outputId": "b50b1b04-aef1-402f-ea7e-302a73b6206c"
      },
      "execution_count": null,
      "outputs": [
        {
          "output_type": "stream",
          "name": "stdout",
          "text": [
            "Insira um numero: 10\n",
            "Sequencia de: 1 \n",
            "Sequencia de: 2 \n",
            "Sequencia de: 3 \n",
            "Sequencia de: 4 \n",
            "Sequencia de: 5 \n",
            "Sequencia de: 6 \n",
            "Sequencia de: 7 \n",
            "Sequencia de: 8 \n",
            "Sequencia de: 9 \n",
            "Sequencia de: 10 \n"
          ]
        }
      ]
    },
    {
      "cell_type": "code",
      "source": [
        "#Escreva um programa que solicite ao usuário que insira um número e, em\n",
        "# seguida, imprima todos os números pares de 2 até esse número.\n",
        "\n",
        "numero = int(input(\"Insira um numero: \"))\n",
        "contador = 2\n",
        "while contador <= numero:\n",
        "  print(f\"Seus pares são: {contador}\")\n",
        "  contador += 2"
      ],
      "metadata": {
        "colab": {
          "base_uri": "https://localhost:8080/"
        },
        "id": "q4f37loAWfDx",
        "outputId": "c315a848-0ff3-4df8-c6fa-f68075125ac2"
      },
      "execution_count": null,
      "outputs": [
        {
          "output_type": "stream",
          "name": "stdout",
          "text": [
            "Insira um numero: 20\n",
            "Seus pares são: 2\n",
            "Seus pares são: 4\n",
            "Seus pares são: 6\n",
            "Seus pares são: 8\n",
            "Seus pares são: 10\n",
            "Seus pares são: 12\n",
            "Seus pares são: 14\n",
            "Seus pares são: 16\n",
            "Seus pares são: 18\n",
            "Seus pares são: 20\n"
          ]
        }
      ]
    },
    {
      "cell_type": "code",
      "source": [
        "# Escreva um programa que solicite ao usuário que insira uma senha. O\n",
        "# programa deve continuar solicitando a senha até que o usuário insira a senha\n",
        "# correta.\n",
        "\n",
        "senhac = 1803\n",
        "senha = int(input(\"Insira sua senha: \"))\n",
        "while senha != senhac:\n",
        "  senha = int(input(\"Insira a senha novamente: \"))\n",
        "print(\"Senha correta\")\n"
      ],
      "metadata": {
        "colab": {
          "base_uri": "https://localhost:8080/"
        },
        "id": "S4w_CnFtXxMl",
        "outputId": "ca88ceb7-bc00-4257-fcd5-3bbf3e7344ff"
      },
      "execution_count": null,
      "outputs": [
        {
          "output_type": "stream",
          "name": "stdout",
          "text": [
            "Insira sua senha: 1205\n",
            "Insira a senha novamente: 1803\n",
            "Senha correta\n"
          ]
        }
      ]
    },
    {
      "cell_type": "code",
      "source": [
        "# Escreva um programa que calcule a média de uma lista de números fornecida\n",
        "# pelo usuário.\n",
        "\n",
        "soma = 0\n",
        "nota = int(input(\"Quantas notas você quer imputar? \"))\n",
        "while soma != 0:\n",
        "  notas = int(input(\"Insira suas notas: \"))\n",
        "  soma += notas\n",
        "  media = soma/nota\n",
        "  print(f\"Media total é de: {media}\")\n",
        "\n",
        "\n",
        "\n",
        "\n",
        "\n"
      ],
      "metadata": {
        "colab": {
          "base_uri": "https://localhost:8080/"
        },
        "id": "0iOiqhz3YYjI",
        "outputId": "e2321e6f-15b2-4c04-e6d8-0df1f0aba5c1"
      },
      "execution_count": null,
      "outputs": [
        {
          "name": "stdout",
          "output_type": "stream",
          "text": [
            "Quantas notas você quer imputar? 2\n"
          ]
        }
      ]
    },
    {
      "cell_type": "code",
      "source": [
        "# Escreva um programa que solicite ao usuário que insira números até que ele\n",
        "# insira o número 0. Em seguida, imprima a soma de todos os números inseridos.\n",
        "\n",
        "soma = 0\n",
        "numero = float(input(\"Digite um Número: \"))\n",
        "while numero != 0:\n",
        "    soma += numero\n",
        "    numero = float(input(\"Digite um Número: \"))\n",
        "print(\"A soma Dos Números é:\", soma)"
      ],
      "metadata": {
        "colab": {
          "base_uri": "https://localhost:8080/"
        },
        "id": "If-Qb6EsoSWW",
        "outputId": "463d6798-c5f2-4c48-bcf2-7fafb3a9d5ab"
      },
      "execution_count": null,
      "outputs": [
        {
          "output_type": "stream",
          "name": "stdout",
          "text": [
            "Digite um Número: 10\n",
            "Digite um Número: 10\n",
            "Digite um Número: 10\n",
            "Digite um Número: 10\n",
            "Digite um Número: 0\n",
            "A soma Dos Números é: 40.0\n"
          ]
        }
      ]
    },
    {
      "cell_type": "code",
      "source": [
        "# Escreva um programa que solicite ao usuário que insira números até que ele\n",
        "# insira um número negativo. Em seguida, imprima o maior número inserido.\n",
        "\n",
        "numero = 0\n",
        "num = float(input(\"Insira um numero: \"))\n",
        "while num <= numero:\n",
        "  num = float(input(\"Insira outro numero: \"))\n",
        "if numero < 0:\n",
        " print(\"Numero digitado é um numero negativo \")\n",
        "break\n",
        "elif numero > 0:\n",
        "   print(f\"Maior numero é: {num}\")\n",
        "\n"
      ],
      "metadata": {
        "colab": {
          "base_uri": "https://localhost:8080/",
          "height": 106
        },
        "id": "LiLcZ9--RXZX",
        "outputId": "4afabad4-f58c-4512-dafe-09b01fc834b9"
      },
      "execution_count": null,
      "outputs": [
        {
          "output_type": "error",
          "ename": "SyntaxError",
          "evalue": "invalid syntax (<ipython-input-22-164b50b6fb15>, line 8)",
          "traceback": [
            "\u001b[0;36m  File \u001b[0;32m\"<ipython-input-22-164b50b6fb15>\"\u001b[0;36m, line \u001b[0;32m8\u001b[0m\n\u001b[0;31m    elif numero > 0:\u001b[0m\n\u001b[0m    ^\u001b[0m\n\u001b[0;31mSyntaxError\u001b[0m\u001b[0;31m:\u001b[0m invalid syntax\n"
          ]
        }
      ]
    },
    {
      "cell_type": "markdown",
      "source": [
        "2. Faça um programa que calcule o mostre a média aritmética de N notas"
      ],
      "metadata": {
        "id": "x7K5d9LMdFC4"
      }
    },
    {
      "cell_type": "code",
      "source": [
        "soma = 0\n",
        "numero = float(input(\"Digite um Número: \"))\n",
        "while numero != 0:\n",
        "\n",
        "    soma *= numero\n",
        "    media = soma/numero\n",
        "    numero = float(input(\"Digite um Número: \"))\n",
        "print(\"A media Dos Números é:\", media)"
      ],
      "metadata": {
        "id": "tgk8NrI9TA3R",
        "colab": {
          "base_uri": "https://localhost:8080/"
        },
        "outputId": "c7a94a59-cc7f-4c85-85bb-ebdd92f8f633"
      },
      "execution_count": 32,
      "outputs": [
        {
          "output_type": "stream",
          "name": "stdout",
          "text": [
            "Digite um Número: 2\n",
            "Digite um Número: 2\n",
            "Digite um Número: 2\n",
            "Digite um Número: 4\n",
            "Digite um Número: 4\n",
            "Digite um Número: 4\n",
            "Digite um Número: 5\n",
            "Digite um Número: 5\n",
            "Digite um Número: 0\n",
            "A media Dos Números é: 0.0\n"
          ]
        }
      ]
    },
    {
      "cell_type": "markdown",
      "source": [
        "4. Um funcionário de uma empresa recebe aumento salarial anualmente.  Sabe-se que: Esse funcionário foi contratado em 1995, com salário inicial de R$  1.000,00; Em 1996 recebeu aumento de 1,5% sobre seu salário inicial; A partir de  1997 (inclusive), os aumentos salariais sempre correspondem ao dobro do  percentual do ano anterior. Faça um programa que determine o salário atual desse  funcionário. Após concluir isto, altere o programa permitindo que o usuário digite o  salário inicial do funcionário.  \n"
      ],
      "metadata": {
        "id": "Zmo5HSqtdAkT"
      }
    },
    {
      "cell_type": "code",
      "source": [],
      "metadata": {
        "id": "lhOWcoiZjEuf"
      },
      "execution_count": null,
      "outputs": []
    },
    {
      "cell_type": "markdown",
      "source": [
        "5. Faça um programa que leia e valide as seguintes informações:   Nome: maior que 3 caracteres;  \n",
        " Idade: entre 0 e 150;  \n",
        " Salário: maior que zero;  \n",
        " Sexo: 'f' ou 'm';  \n",
        " Estado Civil: 's', 'c', 'v', 'd';  \n"
      ],
      "metadata": {
        "id": "6YxCmA_Uc6hL"
      }
    },
    {
      "cell_type": "code",
      "source": [
        "nome = input(\"Digite seu nome: \")\n",
        "while len(nome) < 4:\n",
        "  print(\"Nome invalido\")\n",
        "  nome = input(\"Digite novamente seu nome: \")\n",
        "idade = int(input(\"Insira sua idade: \"))\n",
        "while idade < 0 or idade > 150:\n",
        "  print(\"Idade invalida! \")\n",
        "  idade = int(input(\"Insira novamente sua idade: \"))\n",
        "salario = float(input(\"Digite seu salario: \"))\n",
        "while salario < 0:\n",
        "  print(\"Salario abaixo do permitido!\")\n",
        "  salario = float(input(\"Insira novamente seu salario: \"))\n",
        "sexo = input(\"Insira seu sexo: \")\n",
        "while sexo != \"M\" and sexo != \"F\":\n",
        "  print(\"Sexo invalido\")\n",
        "  sexo = input(\"Insira novamente seu sexo: \")\n",
        "estadocivil = input(\"Digite seu estado cilvil: \")\n",
        "while estadocivil != \"S\" and estadocivil != \"C\" and estadocivil != \"V\" and estadocivil != \"D\":\n",
        "  print(\"Estado civil invalido! \")\n",
        "  estadocivil = input(\"Insira novamente seu estado civil: \")"
      ],
      "metadata": {
        "colab": {
          "base_uri": "https://localhost:8080/"
        },
        "id": "XiEfkBYqjP4y",
        "outputId": "a9338672-d204-46c6-a720-a11e5f3aa423"
      },
      "execution_count": null,
      "outputs": [
        {
          "name": "stdout",
          "output_type": "stream",
          "text": [
            "Digite seu nome: mia\n",
            "Nome invalido\n",
            "Digite novamente seu nome: Mika\n",
            "Insira sua idade: 0\n",
            "Digite seu salario: 0\n",
            "Insira seu sexo: m\n",
            "Sexo invalido\n",
            "Insira novamente seu sexo: M\n",
            "Digite seu estado cilvil: k\n",
            "Estado civil invalido! \n",
            "Insira novamente seu estado civil: S\n"
          ]
        }
      ]
    },
    {
      "cell_type": "markdown",
      "source": [
        "6. Supondo que a população de um país A seja da ordem de 80000 habitantes com  uma taxa anual de crescimento de 3% e que a população de B seja 200000  habitantes com uma taxa de crescimento de 1.5%. Faça um programa que calcule e  escreva o número de anos necessários para que a população do país A ultrapasse  ou iguale a população do país B, mantidas as taxas de crescimento.  "
      ],
      "metadata": {
        "id": "BvlvLE_Bb8gu"
      }
    },
    {
      "cell_type": "code",
      "source": [
        "a = 80000\n",
        "b = 200000\n",
        "ano = 0\n",
        "\n",
        "while a <= b:\n",
        "  a += a * 0.03\n",
        "  b += b * 0.015\n",
        "  ano += 1\n",
        "print ( \"A ultrapassa ou iguala a B em %d anos\" %ano )"
      ],
      "metadata": {
        "id": "LNZZjySOjWzW",
        "colab": {
          "base_uri": "https://localhost:8080/"
        },
        "outputId": "6adcdce6-c52c-463f-8b52-1812d818833d"
      },
      "execution_count": 29,
      "outputs": [
        {
          "output_type": "stream",
          "name": "stdout",
          "text": [
            "A ultrapassa ou iguala a B em 63 anos\n"
          ]
        }
      ]
    },
    {
      "cell_type": "markdown",
      "source": [
        "7. Faça um programa que calcule o fatorial de um número inteiro fornecido pelo  usuário. Ex.: 5!=5.4.3.2.1=120  "
      ],
      "metadata": {
        "id": "FvP_Bs_acCon"
      }
    },
    {
      "cell_type": "code",
      "source": [
        "fatorial = int(input(\"Digite um numero: \"))\n",
        "contador = 1\n",
        "resultado = 1\n",
        "while contador <= fatorial:\n",
        "  resultado *= contador\n",
        "  print(f\"Seu fatorial seria: {contador}\")\n",
        "  print(f\"O total seria: {resultado}\")\n",
        "  contador += 1"
      ],
      "metadata": {
        "id": "55X0p3EJjiCZ",
        "colab": {
          "base_uri": "https://localhost:8080/"
        },
        "outputId": "9bc86c59-67b8-4afe-90b5-eb299f7c1bd5"
      },
      "execution_count": 14,
      "outputs": [
        {
          "output_type": "stream",
          "name": "stdout",
          "text": [
            "Digite um numero: 6\n",
            "Seu fatorial seria: 1\n",
            "O total seria: 1\n",
            "Seu fatorial seria: 2\n",
            "O total seria: 2\n",
            "Seu fatorial seria: 3\n",
            "O total seria: 6\n",
            "Seu fatorial seria: 4\n",
            "O total seria: 24\n",
            "Seu fatorial seria: 5\n",
            "O total seria: 120\n",
            "Seu fatorial seria: 6\n",
            "O total seria: 720\n"
          ]
        }
      ]
    },
    {
      "cell_type": "markdown",
      "source": [
        "8. Faça um programa que solicite ao usuário números indefinidamente até que ele  digite 0. Em seguida, o programa deve imprimir a média dos números digitados"
      ],
      "metadata": {
        "id": "jk2RHN78cLxi"
      }
    },
    {
      "cell_type": "code",
      "source": [
        "soma = 0\n",
        "numero = float(input(\"Digite um Número: \"))\n",
        "while numero != 0:\n",
        "    soma += numero\n",
        "    media = soma/numero\n",
        "    numero = float(input(\"Digite um Número: \"))\n",
        "print(\"A media Dos Números é:\", media)"
      ],
      "metadata": {
        "colab": {
          "base_uri": "https://localhost:8080/"
        },
        "id": "OBhDfZHcjmVR",
        "outputId": "fe00c062-e737-4137-f81f-80b47740adfd"
      },
      "execution_count": null,
      "outputs": [
        {
          "output_type": "stream",
          "name": "stdout",
          "text": [
            "Digite um Número: 10\n",
            "Digite um Número: 10\n",
            "Digite um Número: 10\n",
            "Digite um Número: 0\n",
            "A media Dos Números é: 3.0\n"
          ]
        }
      ]
    },
    {
      "cell_type": "markdown",
      "source": [
        "9. A série de Fibonacci é formada pela sequência 1,1,2,3,5,8,13,21,34,55,... Faça um  programa capaz de gerar a série até o n−ésimo termo."
      ],
      "metadata": {
        "id": "Bceot5c-cWBi"
      }
    },
    {
      "cell_type": "code",
      "source": [],
      "metadata": {
        "id": "2X0z8uz9jw0C"
      },
      "execution_count": null,
      "outputs": []
    },
    {
      "cell_type": "markdown",
      "source": [
        "10. O Sr. Manoel Joaquim expandiu seus negócios para além dos negócios de 1,99 e  agora possui uma loja de conveniências. Faça um programa que implemente uma  caixa registradora rudimentar.  \n",
        " O programa deverá receber um número desconhecido de valores referentes  aos preços das mercadorias. Um valor zero deve ser informado pelo  operador para indicar o final da compra.  \n",
        " O programa deve então mostrar o total da compra e perguntar o valor em  dinheiro que o cliente forneceu, para então calcular e mostrar o valor do  troco. Após esta operação, o programa deverá voltar ao ponto inicial, para  registrar a próxima compra.  \n",
        " A saída deve ser conforme o exemplo abaixo:  \n",
        " Lojas Tabajara  \n",
        " Produto 1: R$ 2.20  \n",
        " Produto 2: R$ 5.80  \n",
        " Produto 3: R$ 0  \n",
        " Total: R$ 9.00  \n",
        " Dinheiro: R$ 20.00  \n",
        " Troco: R$ 11.00  \n"
      ],
      "metadata": {
        "id": "YfxtynEhcb_5"
      }
    },
    {
      "cell_type": "code",
      "source": [
        "deseja_comprar = \"sim\"\n",
        "while deseja_comprar == \"sim\" or deseja_comprar == \"SIM\":\n",
        " total = 0\n",
        " cod_produto = 0\n",
        " preco_produto = float(input(f\"Insira o preço do produto:  {cod_produto + 1} \"))\n",
        "while preco_produto != 0:\n",
        "   total += preco_produto\n",
        "   cod_produto += 1\n",
        "   preco_prouto = float(input(f\"insira o preço do produto: {cod_produto + 1} \"))\n",
        "   print(f\"Total R$ {total:.2f}\")\n",
        "   dinheiro = float(input(\"Dinheiro R$\"))\n",
        "   troco = dinheiro - total\n",
        "   print(f\"Seu troco é de R$ {troco:.2f}\")\n",
        "   mais_compra = input(\"Deseja continuar comprando? \")\n",
        "   if mais_compra == \"sim\":\n",
        "    print(\"Boas compras!\")\n",
        "   else:\n",
        "    print(\"Tenha um otimo dia! Programa encerrado\")"
      ],
      "metadata": {
        "id": "_oL_YvBWjrpq",
        "colab": {
          "base_uri": "https://localhost:8080/",
          "height": 373
        },
        "outputId": "e5b5d2fb-5d86-4fa9-9640-1122aa6db0b7"
      },
      "execution_count": 66,
      "outputs": [
        {
          "name": "stdout",
          "output_type": "stream",
          "text": [
            "Insira o preço do produto:  1 20\n"
          ]
        },
        {
          "output_type": "error",
          "ename": "KeyboardInterrupt",
          "evalue": "Interrupted by user",
          "traceback": [
            "\u001b[0;31m---------------------------------------------------------------------------\u001b[0m",
            "\u001b[0;31mKeyboardInterrupt\u001b[0m                         Traceback (most recent call last)",
            "\u001b[0;32m<ipython-input-66-a0b361aaef62>\u001b[0m in \u001b[0;36m<cell line: 2>\u001b[0;34m()\u001b[0m\n\u001b[1;32m      3\u001b[0m  \u001b[0mtotal\u001b[0m \u001b[0;34m=\u001b[0m \u001b[0;36m0\u001b[0m\u001b[0;34m\u001b[0m\u001b[0;34m\u001b[0m\u001b[0m\n\u001b[1;32m      4\u001b[0m  \u001b[0mcod_produto\u001b[0m \u001b[0;34m=\u001b[0m \u001b[0;36m0\u001b[0m\u001b[0;34m\u001b[0m\u001b[0;34m\u001b[0m\u001b[0m\n\u001b[0;32m----> 5\u001b[0;31m  \u001b[0mpreco_produto\u001b[0m \u001b[0;34m=\u001b[0m \u001b[0mfloat\u001b[0m\u001b[0;34m(\u001b[0m\u001b[0minput\u001b[0m\u001b[0;34m(\u001b[0m\u001b[0;34mf\"Insira o preço do produto:  {cod_produto + 1} \"\u001b[0m\u001b[0;34m)\u001b[0m\u001b[0;34m)\u001b[0m\u001b[0;34m\u001b[0m\u001b[0;34m\u001b[0m\u001b[0m\n\u001b[0m\u001b[1;32m      6\u001b[0m \u001b[0;32mwhile\u001b[0m \u001b[0mpreco_produto\u001b[0m \u001b[0;34m!=\u001b[0m \u001b[0;36m0\u001b[0m\u001b[0;34m:\u001b[0m\u001b[0;34m\u001b[0m\u001b[0;34m\u001b[0m\u001b[0m\n\u001b[1;32m      7\u001b[0m    \u001b[0mtotal\u001b[0m \u001b[0;34m+=\u001b[0m \u001b[0mpreco_produto\u001b[0m\u001b[0;34m\u001b[0m\u001b[0;34m\u001b[0m\u001b[0m\n",
            "\u001b[0;32m/usr/local/lib/python3.10/dist-packages/ipykernel/kernelbase.py\u001b[0m in \u001b[0;36mraw_input\u001b[0;34m(self, prompt)\u001b[0m\n\u001b[1;32m    849\u001b[0m                 \u001b[0;34m\"raw_input was called, but this frontend does not support input requests.\"\u001b[0m\u001b[0;34m\u001b[0m\u001b[0;34m\u001b[0m\u001b[0m\n\u001b[1;32m    850\u001b[0m             )\n\u001b[0;32m--> 851\u001b[0;31m         return self._input_request(str(prompt),\n\u001b[0m\u001b[1;32m    852\u001b[0m             \u001b[0mself\u001b[0m\u001b[0;34m.\u001b[0m\u001b[0m_parent_ident\u001b[0m\u001b[0;34m,\u001b[0m\u001b[0;34m\u001b[0m\u001b[0;34m\u001b[0m\u001b[0m\n\u001b[1;32m    853\u001b[0m             \u001b[0mself\u001b[0m\u001b[0;34m.\u001b[0m\u001b[0m_parent_header\u001b[0m\u001b[0;34m,\u001b[0m\u001b[0;34m\u001b[0m\u001b[0;34m\u001b[0m\u001b[0m\n",
            "\u001b[0;32m/usr/local/lib/python3.10/dist-packages/ipykernel/kernelbase.py\u001b[0m in \u001b[0;36m_input_request\u001b[0;34m(self, prompt, ident, parent, password)\u001b[0m\n\u001b[1;32m    893\u001b[0m             \u001b[0;32mexcept\u001b[0m \u001b[0mKeyboardInterrupt\u001b[0m\u001b[0;34m:\u001b[0m\u001b[0;34m\u001b[0m\u001b[0;34m\u001b[0m\u001b[0m\n\u001b[1;32m    894\u001b[0m                 \u001b[0;31m# re-raise KeyboardInterrupt, to truncate traceback\u001b[0m\u001b[0;34m\u001b[0m\u001b[0;34m\u001b[0m\u001b[0m\n\u001b[0;32m--> 895\u001b[0;31m                 \u001b[0;32mraise\u001b[0m \u001b[0mKeyboardInterrupt\u001b[0m\u001b[0;34m(\u001b[0m\u001b[0;34m\"Interrupted by user\"\u001b[0m\u001b[0;34m)\u001b[0m \u001b[0;32mfrom\u001b[0m \u001b[0;32mNone\u001b[0m\u001b[0;34m\u001b[0m\u001b[0;34m\u001b[0m\u001b[0m\n\u001b[0m\u001b[1;32m    896\u001b[0m             \u001b[0;32mexcept\u001b[0m \u001b[0mException\u001b[0m \u001b[0;32mas\u001b[0m \u001b[0me\u001b[0m\u001b[0;34m:\u001b[0m\u001b[0;34m\u001b[0m\u001b[0;34m\u001b[0m\u001b[0m\n\u001b[1;32m    897\u001b[0m                 \u001b[0mself\u001b[0m\u001b[0;34m.\u001b[0m\u001b[0mlog\u001b[0m\u001b[0;34m.\u001b[0m\u001b[0mwarning\u001b[0m\u001b[0;34m(\u001b[0m\u001b[0;34m\"Invalid Message:\"\u001b[0m\u001b[0;34m,\u001b[0m \u001b[0mexc_info\u001b[0m\u001b[0;34m=\u001b[0m\u001b[0;32mTrue\u001b[0m\u001b[0;34m)\u001b[0m\u001b[0;34m\u001b[0m\u001b[0;34m\u001b[0m\u001b[0m\n",
            "\u001b[0;31mKeyboardInterrupt\u001b[0m: Interrupted by user"
          ]
        }
      ]
    },
    {
      "cell_type": "markdown",
      "source": [
        "11. O cardápio de uma lanchonete é o seguinte:  \n",
        "Especificação Código Preço  \n",
        " Cachorro Quente 100 R$ 1,20  \n",
        " Bauru Simples 101 R$ 1,30  \n",
        " Bauru com ovo 102 R$ 1,50  \n",
        " Hambúrguer 103 R$ 1,20  \n",
        " Cheeseburguer 104 R$ 1,30  \n",
        " Refrigerante 105 R$ 1,00  \n",
        "Faça um programa que leia o código dos itens pedidos e as quantidades desejadas.  Calcule e mostre o valor a ser pago por item (preço * quantidade) e o total geral do  pedido. Considere que o cliente deve informar quando o pedido deve ser encerrado.\n"
      ],
      "metadata": {
        "id": "uteBfYXQcdX7"
      }
    },
    {
      "cell_type": "code",
      "source": [
        "cardapio {\n",
        "    100: {\"nome\": \"Cachorro Quente\", \"preco\": 1.20},\n",
        "    101: {\"nome\": \"Bauru Simples\", \"preco\": 1.30},\n",
        "    102: {\"nome\": \"Bauru com Ovo\", \"preco\": 1.50},\n",
        "    103: {\"nome\": \"Hambúrguer\", \"preco\": 1.20},\n",
        "    104: {\"nome\": \"Cheeseburguer\", \"preco\": 1.30},\n",
        "    105: {\"nome\": \"Refrigerante\", \"preco\": 1.00},\n",
        "}\n",
        "pedidos = 0\n",
        "i = int(input(\"Digite o codigo do produto que deseja comprar: \"))\n",
        "while i != 0:\n",
        "  if i in cardapio:\n",
        "    qntd = int(input(\"Insira a quantidade que deseja: \"))\n",
        "    item = cardapio(i)\n",
        "    total = item(\"preço\") * qntd\n",
        "    pedidos += total\n",
        "    print(f\"{Quantidade} x {item}: R$ {total:.2f} \")\n",
        "  else:\n",
        "       print(\"Codigo invalido \")\n",
        "  i = int(input(\"Insira o codigo do produto que deseja comprar: \"))\n",
        "print(f\"Total do pedidos é de R$: {pedidos:.2f}\")\n",
        ""
      ],
      "metadata": {
        "id": "zRPa0cbIrNgH",
        "colab": {
          "base_uri": "https://localhost:8080/",
          "height": 106
        },
        "outputId": "11b25aa0-f70e-4c49-b7e5-c39fa0e649f5"
      },
      "execution_count": 86,
      "outputs": [
        {
          "output_type": "error",
          "ename": "SyntaxError",
          "evalue": "invalid syntax (<ipython-input-86-fad99d4fbf58>, line 1)",
          "traceback": [
            "\u001b[0;36m  File \u001b[0;32m\"<ipython-input-86-fad99d4fbf58>\"\u001b[0;36m, line \u001b[0;32m1\u001b[0m\n\u001b[0;31m    cardapio {\u001b[0m\n\u001b[0m             ^\u001b[0m\n\u001b[0;31mSyntaxError\u001b[0m\u001b[0;31m:\u001b[0m invalid syntax\n"
          ]
        }
      ]
    },
    {
      "cell_type": "markdown",
      "source": [
        "12. Em uma eleição presidencial existem quatro candidatos. Os votos são informados  por meio de código.  \n",
        "Os códigos utilizados são:  \n",
        " 1, 2, 3, 4 - Votos para os respectivos candidatos  \n",
        " (você deve montar a tabela ex: 1 - Jose/ 2- João/etc)  \n",
        " 5 - Voto Nulo  \n",
        " 6 - Voto em Branco  \n",
        "Faça um programa que calcule e mostre:  \n",
        " O total de votos para cada candidato;  \n",
        " O total de votos nulos;  \n",
        " O total de votos em branco;  \n",
        " A percentagem de votos nulos sobre o total de votos;  \n",
        " A percentagem de votos em branco sobre o total de votos.  \n",
        "Para finalizar o conjunto de votos tem-se o valor zero.\n"
      ],
      "metadata": {
        "id": "Ca8pu26_cgp8"
      }
    },
    {
      "cell_type": "code",
      "source": [],
      "metadata": {
        "id": "_Hz0bfABrXw-"
      },
      "execution_count": null,
      "outputs": []
    }
  ]
}