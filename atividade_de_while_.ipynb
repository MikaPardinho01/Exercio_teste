{
  "nbformat": 4,
  "nbformat_minor": 0,
  "metadata": {
    "colab": {
      "provenance": [],
      "authorship_tag": "ABX9TyPue9Qijbu+KZNc7Ua5l4gr",
      "include_colab_link": true
    },
    "kernelspec": {
      "name": "python3",
      "display_name": "Python 3"
    },
    "language_info": {
      "name": "python"
    }
  },
  "cells": [
    {
      "cell_type": "markdown",
      "metadata": {
        "id": "view-in-github",
        "colab_type": "text"
      },
      "source": [
        "<a href=\"https://colab.research.google.com/github/MikaPardinho01/Exercio_teste/blob/main/atividade_de_while_.ipynb\" target=\"_parent\"><img src=\"https://colab.research.google.com/assets/colab-badge.svg\" alt=\"Open In Colab\"/></a>"
      ]
    },
    {
      "cell_type": "code",
      "execution_count": null,
      "metadata": {
        "colab": {
          "base_uri": "https://localhost:8080/"
        },
        "id": "NqzObIyf_jQi",
        "outputId": "b84e0466-5402-4586-b728-4dc7a9bf102e"
      },
      "outputs": [
        {
          "output_type": "stream",
          "name": "stdout",
          "text": [
            "Digite uma nota entre zero e dez: 12\n",
            "Digite um valor valido: 585\n",
            "Digite um valor valido: 10\n",
            "Sucesso\n"
          ]
        }
      ],
      "source": [
        "nota = float(input(\"Digite uma nota entre zero e dez: \"))\n",
        "while nota > 10 or nota < 0:\n",
        "  nota = float(input(\"Digite um valor valido: \"))\n",
        "print(\"Sucesso\")\n"
      ]
    },
    {
      "cell_type": "code",
      "source": [
        "numero = int(input(\"Digite um numero: \"))\n",
        "contador = 1\n",
        "while contador <= 10:\n",
        "  resultado = numero * contador\n",
        "  print(f\"{numero} * {contador} = {resultado}\")\n",
        "  contador += 1"
      ],
      "metadata": {
        "colab": {
          "base_uri": "https://localhost:8080/"
        },
        "id": "5K9yBmFrBjFa",
        "outputId": "62fbbf98-0503-4020-e6e0-0f81c4ad6055"
      },
      "execution_count": null,
      "outputs": [
        {
          "output_type": "stream",
          "name": "stdout",
          "text": [
            "Digite um numero: 5\n",
            "5 * 1 = 5\n",
            "5 * 2 = 10\n",
            "5 * 3 = 15\n",
            "5 * 4 = 20\n",
            "5 * 5 = 25\n",
            "5 * 6 = 30\n",
            "5 * 7 = 35\n",
            "5 * 8 = 40\n",
            "5 * 9 = 45\n",
            "5 * 10 = 50\n"
          ]
        }
      ]
    },
    {
      "cell_type": "code",
      "source": [
        "nome = int(input(\"Digite o nome do usuario: \"))\n",
        "senha = int(input(\"Insira sua senha: \"))\n",
        "while nome == senha:\n",
        "  nome = int(input(\"Digite um usario valido: \"))\n",
        "  senha = int(input(\"Insira uma senha valida: \"))\n",
        "print(\"Sucesso\")\n",
        "\n"
      ],
      "metadata": {
        "colab": {
          "base_uri": "https://localhost:8080/"
        },
        "id": "1gvkhCm0Fr7_",
        "outputId": "aff2a09c-7930-4098-904d-cd7b106f41ff"
      },
      "execution_count": null,
      "outputs": [
        {
          "output_type": "stream",
          "name": "stdout",
          "text": [
            "Digite o nome do usuario: 1803\n",
            "Insira sua senha: 1803\n",
            "Digite um usario valido: 1803\n",
            "Insira uma senha valida: 1504\n",
            "Sucesso\n"
          ]
        }
      ]
    },
    {
      "cell_type": "code",
      "source": [
        "contador = 1\n",
        "while contador <= 10:\n",
        " print(f\"Numeros = {contador}\")\n",
        " contador += 1"
      ],
      "metadata": {
        "colab": {
          "base_uri": "https://localhost:8080/"
        },
        "id": "cmnRqj29I7dQ",
        "outputId": "ff954b19-7bc9-4d4f-d38b-b9213b5bacf5"
      },
      "execution_count": 35,
      "outputs": [
        {
          "output_type": "stream",
          "name": "stdout",
          "text": [
            "Numeros = 1\n",
            "Numeros = 2\n",
            "Numeros = 3\n",
            "Numeros = 4\n",
            "Numeros = 5\n",
            "Numeros = 6\n",
            "Numeros = 7\n",
            "Numeros = 8\n",
            "Numeros = 9\n",
            "Numeros = 10\n"
          ]
        }
      ]
    },
    {
      "cell_type": "code",
      "source": [
        "contador = 2\n",
        "while contador <= 20:\n",
        "  print(f\"Numeros pares são: {contador}\")\n",
        "  contador +=2"
      ],
      "metadata": {
        "colab": {
          "base_uri": "https://localhost:8080/"
        },
        "id": "I0E1vm9pN3n1",
        "outputId": "f102b5cd-5c07-4270-c8a8-13d5367d2ecc"
      },
      "execution_count": 52,
      "outputs": [
        {
          "output_type": "stream",
          "name": "stdout",
          "text": [
            "Numeros pares são: 2\n",
            "Numeros pares são: 4\n",
            "Numeros pares são: 6\n",
            "Numeros pares são: 8\n",
            "Numeros pares são: 10\n",
            "Numeros pares são: 12\n",
            "Numeros pares são: 14\n",
            "Numeros pares são: 16\n",
            "Numeros pares são: 18\n",
            "Numeros pares são: 20\n"
          ]
        }
      ]
    },
    {
      "cell_type": "code",
      "source": [
        "numero = int(input(\"Insira um numero: \"))\n",
        "contador = 1\n",
        "while contador <= numero:\n",
        "  print(f\"Sequencia de: {contador} \")\n",
        "  contador += 1"
      ],
      "metadata": {
        "colab": {
          "base_uri": "https://localhost:8080/"
        },
        "id": "7nQ6ywdnVMHG",
        "outputId": "b50b1b04-aef1-402f-ea7e-302a73b6206c"
      },
      "execution_count": 63,
      "outputs": [
        {
          "output_type": "stream",
          "name": "stdout",
          "text": [
            "Insira um numero: 10\n",
            "Sequencia de: 1 \n",
            "Sequencia de: 2 \n",
            "Sequencia de: 3 \n",
            "Sequencia de: 4 \n",
            "Sequencia de: 5 \n",
            "Sequencia de: 6 \n",
            "Sequencia de: 7 \n",
            "Sequencia de: 8 \n",
            "Sequencia de: 9 \n",
            "Sequencia de: 10 \n"
          ]
        }
      ]
    },
    {
      "cell_type": "code",
      "source": [
        "numero = int(input(\"Insira um numero: \"))\n",
        "contador = 2\n",
        "while contador <= numero:\n",
        "  print(f\"Seus pares são: {contador}\")\n",
        "  contador += 2"
      ],
      "metadata": {
        "colab": {
          "base_uri": "https://localhost:8080/"
        },
        "id": "q4f37loAWfDx",
        "outputId": "c315a848-0ff3-4df8-c6fa-f68075125ac2"
      },
      "execution_count": 64,
      "outputs": [
        {
          "output_type": "stream",
          "name": "stdout",
          "text": [
            "Insira um numero: 20\n",
            "Seus pares são: 2\n",
            "Seus pares são: 4\n",
            "Seus pares são: 6\n",
            "Seus pares são: 8\n",
            "Seus pares são: 10\n",
            "Seus pares são: 12\n",
            "Seus pares são: 14\n",
            "Seus pares são: 16\n",
            "Seus pares são: 18\n",
            "Seus pares são: 20\n"
          ]
        }
      ]
    },
    {
      "cell_type": "code",
      "source": [
        "senhac = 1803\n",
        "senha = int(input(\"Insira sua senha: \"))\n",
        "while senha != senhac:\n",
        "  senha = int(input(\"Insira a senha novamente: \"))\n",
        "print(\"Senha correta\")\n"
      ],
      "metadata": {
        "colab": {
          "base_uri": "https://localhost:8080/"
        },
        "id": "S4w_CnFtXxMl",
        "outputId": "ca88ceb7-bc00-4257-fcd5-3bbf3e7344ff"
      },
      "execution_count": 65,
      "outputs": [
        {
          "output_type": "stream",
          "name": "stdout",
          "text": [
            "Insira sua senha: 1205\n",
            "Insira a senha novamente: 1803\n",
            "Senha correta\n"
          ]
        }
      ]
    },
    {
      "cell_type": "code",
      "source": [
        "soma = 0\n",
        "nota = int(input(\"Quantas notas você quer imputar? \"))\n",
        "while soma in range(nota):\n",
        "  nota = int(input(\"Insira suas notas: \"))\n",
        "  contador += 1\n",
        "  soma += nota\n",
        "  media = soma/nota\n",
        "  print(media)\n",
        "\n",
        "\n",
        "\n",
        "\n",
        "\n",
        "\n",
        ""
      ],
      "metadata": {
        "colab": {
          "base_uri": "https://localhost:8080/"
        },
        "id": "0iOiqhz3YYjI",
        "outputId": "03fe1a5f-b7c3-4815-813f-6e747e86c36b"
      },
      "execution_count": 104,
      "outputs": [
        {
          "output_type": "stream",
          "name": "stdout",
          "text": [
            "Quantas notas você quer imputar? 2\n",
            "Insira suas notas: 10\n",
            "1.0\n"
          ]
        }
      ]
    },
    {
      "cell_type": "code",
      "source": [
        "i = 0\n",
        "limite = int(input(\"A\"))\n",
        "while i in range(limite):\n",
        " print(\"i\")\n",
        " i += 1"
      ],
      "metadata": {
        "colab": {
          "base_uri": "https://localhost:8080/"
        },
        "id": "V6qoKwDfkMrn",
        "outputId": "59e2b42f-2d29-41c7-ba99-815f29d814a1"
      },
      "execution_count": 91,
      "outputs": [
        {
          "output_type": "stream",
          "name": "stdout",
          "text": [
            "A10\n",
            "i\n",
            "i\n",
            "i\n",
            "i\n",
            "i\n",
            "i\n",
            "i\n",
            "i\n",
            "i\n",
            "i\n"
          ]
        }
      ]
    },
    {
      "cell_type": "code",
      "source": [
        "soma = 0\n",
        "numero = float(input(\"Digite um Número: \"))\n",
        "while numero != 0:\n",
        "    soma += numero\n",
        "    numero = float(input(\"Digite um Número: \"))\n",
        "print(\"A soma Dos Números é:\", soma)"
      ],
      "metadata": {
        "colab": {
          "base_uri": "https://localhost:8080/"
        },
        "id": "If-Qb6EsoSWW",
        "outputId": "463d6798-c5f2-4c48-bcf2-7fafb3a9d5ab"
      },
      "execution_count": 106,
      "outputs": [
        {
          "output_type": "stream",
          "name": "stdout",
          "text": [
            "Digite um Número: 10\n",
            "Digite um Número: 10\n",
            "Digite um Número: 10\n",
            "Digite um Número: 10\n",
            "Digite um Número: 0\n",
            "A soma Dos Números é: 40.0\n"
          ]
        }
      ]
    }
  ]
}